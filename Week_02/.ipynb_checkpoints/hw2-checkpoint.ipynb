{
 "cells": [
  {
   "cell_type": "code",
   "execution_count": 1,
   "metadata": {},
   "outputs": [],
   "source": [
    "#leet 242 Agagram\n",
    "# easy\n",
    "from collections import Counter\n",
    "class Solution:\n",
    "    def isAnagram(self, s: str, t: str) -> bool:\n",
    "        return Counter(t) == Counter(s)"
   ]
  },
  {
   "cell_type": "code",
   "execution_count": 3,
   "metadata": {},
   "outputs": [],
   "source": [
    "#leet 1 two sum\n",
    "# easy\n",
    "class Solution:\n",
    "    def twoSum(self, nums, target):\n",
    "        if len(nums) <= 1:\n",
    "            return False\n",
    "        remainder_dic={}\n",
    "        for i in range(len(nums)):\n",
    "            if nums[i] in remainder_dic:\n",
    "                return [remainder_dic[nums[i]],i]\n",
    "            else:\n",
    "                remainder_dic[target-nums[i]]=i"
   ]
  },
  {
   "cell_type": "code",
   "execution_count": 5,
   "metadata": {},
   "outputs": [],
   "source": [
    "# leet 589 N-ary Tree Preorder Traversal\n",
    "# easy\n",
    "\"\"\"\n",
    "# Definition for a Node.\n",
    "class Node:\n",
    "    def __init__(self, val=None, children=None):\n",
    "        self.val = val\n",
    "        self.children = children\n",
    "\"\"\"\n",
    "\n",
    "class Solution:\n",
    "    def dfs(self, root):\n",
    "        if not root:\n",
    "            return []\n",
    "        ans = []\n",
    "        ans.append(root.val)\n",
    "        \n",
    "        for child in root.children:\n",
    "            ans += self.dfs(child)\n",
    "        \n",
    "        return ans\n",
    "        \n",
    "    def preorder(self, root) :\n",
    "        return self.dfs(root)"
   ]
  },
  {
   "cell_type": "code",
   "execution_count": 7,
   "metadata": {},
   "outputs": [],
   "source": [
    "# leet 49. Group Anagrams\n",
    "# med\n",
    "class Solution:\n",
    "    def groupAnagrams(self, strs):\n",
    "        ans = collections.defaultdict(list)\n",
    "        for s in strs:\n",
    "            ans[tuple(sorted(s))].append(s)\n",
    "        return ans.values()"
   ]
  },
  {
   "cell_type": "code",
   "execution_count": 8,
   "metadata": {},
   "outputs": [],
   "source": [
    "# leet 94. Binary Tree Inorder Traversal\n",
    "# med\n",
    "# Definition for a binary tree node.\n",
    "# class TreeNode:\n",
    "#     def __init__(self, val=0, left=None, right=None):\n",
    "#         self.val = val\n",
    "#         self.left = left\n",
    "#         self.right = right\n",
    "class Solution:\n",
    "    def inorderTraversal(self, root):\n",
    "        res = []\n",
    "        self.helper(root, res)\n",
    "        return res\n",
    "    \n",
    "    def helper(self, root, res):\n",
    "        if root:\n",
    "            self.helper(root.left, res)\n",
    "            res.append(root.val)\n",
    "            self.helper(root.right, res)"
   ]
  },
  {
   "cell_type": "code",
   "execution_count": 9,
   "metadata": {},
   "outputs": [],
   "source": [
    "#144. Binary Tree Preorder Traversal\n",
    "# med\n",
    "# Definition for a binary tree node.\n",
    "# class TreeNode:\n",
    "#     def __init__(self, val=0, left=None, right=None):\n",
    "#         self.val = val\n",
    "#         self.left = left\n",
    "#         self.right = right\n",
    "class Solution:\n",
    "    def preorderTraversal(self, root):\n",
    "        res = []\n",
    "        self.dfs(root, res)\n",
    "        return res\n",
    "    \n",
    "    def dfs(self, root, res):\n",
    "        if root:\n",
    "            res.append(root.val)\n",
    "            self.dfs(root.left, res)\n",
    "            self.dfs(root.right, res)"
   ]
  },
  {
   "cell_type": "code",
   "execution_count": 11,
   "metadata": {},
   "outputs": [],
   "source": [
    "# leet 429. N-ary Tree Level Order Traversal\n",
    "# med\n",
    "\"\"\"\n",
    "# Definition for a Node.\n",
    "class Node:\n",
    "    def __init__(self, val=None, children=None):\n",
    "        self.val = val\n",
    "        self.children = children\n",
    "\"\"\"\n",
    "\n",
    "class Solution:\n",
    "    \n",
    "    def levelOrder(self, root):\n",
    "        if not root: return\n",
    "        d=collections.defaultdict(list)\n",
    "        def dfs(node,height):\n",
    "            d[height].append(node.val)\n",
    "            for child in node.children:\n",
    "                if child: dfs(child,height+1)\n",
    "        dfs(root,0)\n",
    "        return [d[height] for height in range(max(d)+1)]"
   ]
  },
  {
   "cell_type": "code",
   "execution_count": 12,
   "metadata": {},
   "outputs": [],
   "source": [
    "#剑指49 uglynumber\n",
    "#med\n",
    "class Solution(object):\n",
    "    def nthUglyNumber(self, n):\n",
    "        \"\"\"\n",
    "        :type n: int\n",
    "        :rtype: int\n",
    "        \"\"\"\n",
    "        result = 1\n",
    "        temp = 1\n",
    "        dp2, dp3, dp5 = 0,0,0\n",
    "        result = [1]*n\n",
    "        while temp < n:\n",
    "            result[temp] = min(result[dp2]*2, result[dp3]*3, result[dp5]*5)\n",
    "            if result[dp2]*2 == result[temp]:\n",
    "                dp2 += 1\n",
    "            if result[dp3]*3 == result[temp]:\n",
    "                dp3 += 1\n",
    "            if result[dp5]*5 == result[temp]:\n",
    "                dp5 += 1\n",
    "            temp += 1\n",
    "        return result[temp-1]"
   ]
  },
  {
   "cell_type": "code",
   "execution_count": 14,
   "metadata": {},
   "outputs": [],
   "source": [
    "# leet 347. Top K Frequent Elements\n",
    "# med\n",
    "from collections import Counter\n",
    "class Solution:\n",
    "    def topKFrequent(self, nums, k): \n",
    "        # O(1) time \n",
    "        if k == len(nums):\n",
    "            return nums\n",
    "        \n",
    "        # 1. build hash map : character and how often it appears\n",
    "        # O(N) time\n",
    "        count = Counter(nums)   \n",
    "        # 2-3. build heap of top k frequent elements and\n",
    "        # convert it into an output array\n",
    "        # O(N log k) time\n",
    "        return heapq.nlargest(k, count.keys(), key=count.get) "
   ]
  },
  {
   "cell_type": "code",
   "execution_count": null,
   "metadata": {},
   "outputs": [],
   "source": []
  }
 ],
 "metadata": {
  "kernelspec": {
   "display_name": "Python 3",
   "language": "python",
   "name": "python3"
  },
  "language_info": {
   "codemirror_mode": {
    "name": "ipython",
    "version": 3
   },
   "file_extension": ".py",
   "mimetype": "text/x-python",
   "name": "python",
   "nbconvert_exporter": "python",
   "pygments_lexer": "ipython3",
   "version": "3.6.2"
  }
 },
 "nbformat": 4,
 "nbformat_minor": 4
}
